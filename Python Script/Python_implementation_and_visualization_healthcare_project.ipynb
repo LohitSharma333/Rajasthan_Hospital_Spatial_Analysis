{
  "cells": [
    {
      "cell_type": "markdown",
      "metadata": {
        "id": "enU9-dNM9TGv"
      },
      "source": [
        "Importing Libraries and Configurations for Data Analysis and Visualization"
      ]
    },
    {
      "cell_type": "code",
      "execution_count": null,
      "metadata": {
        "id": "BNBA6zsXKXgz"
      },
      "outputs": [
        {
          "ename": "",
          "evalue": "",
          "output_type": "error",
          "traceback": [
            "\u001b[1;31mRunning cells with 'Python 3.12.4' requires the ipykernel package.\n",
            "\u001b[1;31m<a href='command:jupyter.createPythonEnvAndSelectController'>Create a Python Environment</a> with the required packages.\n",
            "\u001b[1;31mOr install 'ipykernel' using the command: 'c:/Users/Hp/AppData/Local/Programs/Python/Python312/python.exe -m pip install ipykernel -U --user --force-reinstall'"
          ]
        }
      ],
      "source": [
        "import pandas as pd\n",
        "import matplotlib.pyplot as plt\n",
        "import seaborn as sns\n",
        "import folium\n",
        "import plotly.express as px\n",
        "import warnings\n",
        "warnings.filterwarnings(\"ignore\")\n"
      ]
    },
    {
      "cell_type": "markdown",
      "metadata": {
        "id": "61iohtz99ZHq"
      },
      "source": [
        "Loading and Importing Project Datasets"
      ]
    },
    {
      "cell_type": "code",
      "execution_count": null,
      "metadata": {
        "id": "2b-OM0MCMUeE"
      },
      "outputs": [],
      "source": [
        "avg_distance = pd.read_csv(\"/content/Average distance of hospitals to National Highways and State Highways.csv\")\n",
        "bottom5 = pd.read_csv(\"/content/Bottom 5 districts with lowest number of hospitals.csv\")\n",
        "nh_sh_counts = pd.read_csv(\"/content/Count of hospitals near NH vs SH.csv\")\n",
        "district_rank_hosp = pd.read_csv(\"/content/Districts ranked by hospital count.csv\")\n",
        "district_rank_pop = pd.read_csv(\"/content/Districts ranked by hospitals per 100,000 population.csv\")\n",
        "outliers = pd.read_csv(\"/content/Districts with population over 1 million but less than 10 hospitals(outlier).csv\")\n",
        "district_facility_counts = pd.read_csv(\"/content/District-wise hospital,facility counts.csv\")\n",
        "pop_ratio = pd.read_csv(\"/content/District-wise Hospitals & Population Ratio.csv\")\n",
        "hospital_coords = pd.read_csv(\"/content/Extract hospital coordinates (longitude, latitude) for heatmap visualization.csv\")\n",
        "hosp_access=pd.read_csv(\"/content/People-to-Hospital Ratios Categorized by Access Level.csv\")\n",
        "hosp_density=pd.read_csv(\"/content/Hospital density per square kilometer by district (choropleth preparation).csv\")\n",
        "emg_fac=pd.read_csv(\"/content/Facilities with emergency services by district.csv\")"
      ]
    },
    {
      "cell_type": "markdown",
      "metadata": {
        "id": "DESu3CCi9cBQ"
      },
      "source": [
        "Visualizing District-wise Hospital Counts Using a Bar Plot"
      ]
    },
    {
      "cell_type": "code",
      "execution_count": null,
      "metadata": {
        "colab": {
          "base_uri": "https://localhost:8080/",
          "height": 666
        },
        "id": "8_-i4dsNMa47",
        "outputId": "5ecd800e-b13a-4cf4-8ed8-2173b935d7c3"
      },
      "outputs": [],
      "source": [
        "plt.figure(figsize=(12,6))\n",
        "sns.barplot(data=district_facility_counts, x=\"district\", y=\"hospital_count\", palette=\"viridis\")\n",
        "plt.xticks(rotation=90)\n",
        "plt.title(\"District-wise Hospital Counts in Rajasthan\")\n",
        "plt.show()\n"
      ]
    },
    {
      "cell_type": "markdown",
      "metadata": {
        "id": "B2hTEu8X9l1Z"
      },
      "source": [
        "Identifying and Visualizing Top 10 Underserved Districts by People per Hospital"
      ]
    },
    {
      "cell_type": "code",
      "execution_count": null,
      "metadata": {
        "colab": {
          "base_uri": "https://localhost:8080/",
          "height": 627
        },
        "id": "rpDF_dWFMtg1",
        "outputId": "b1cbf0c9-18da-4bdb-92f1-5c7ac2a8f639"
      },
      "outputs": [],
      "source": [
        "top10 = pop_ratio.sort_values(\"people_per_hospital\", ascending=False).head(10)\n",
        "plt.figure(figsize=(10,6))\n",
        "ax = sns.barplot(data=top10, x=\"district\", y=\"people_per_hospital\", palette=\"magma\")\n",
        "plt.xticks(rotation=90)\n",
        "plt.title(\"Top 10 Underserved Districts (People per Hospital)\")\n",
        "\n",
        "for p in ax.patches:\n",
        "    ax.text(p.get_x() + p.get_width()/2, p.get_height() + 100, int(p.get_height()),\n",
        "            ha='center', va='bottom', fontsize=10)\n",
        "\n",
        "plt.show()\n"
      ]
    },
    {
      "cell_type": "markdown",
      "metadata": {
        "id": "AcQPalfh9kSg"
      },
      "source": [
        "Comparing Hospital Counts Near National and State Highways"
      ]
    },
    {
      "cell_type": "code",
      "execution_count": null,
      "metadata": {
        "colab": {
          "base_uri": "https://localhost:8080/",
          "height": 472
        },
        "id": "IOP-cFrXMxnw",
        "outputId": "785cdb9e-8ed0-4d8e-a5b8-08b780fc3721"
      },
      "outputs": [],
      "source": [
        "ax = sns.barplot(data=nh_sh_counts, x=\"roadcatego\", y=\"hospital_count\", palette=\"Set2\")\n",
        "plt.title(\"Hospitals near National vs State Highways (within 5 km)\")\n",
        "\n",
        "for p in ax.patches:\n",
        "    ax.text(p.get_x() + p.get_width()/2, p.get_height() + 0.5, int(p.get_height()),\n",
        "            ha='center', va='bottom', fontsize=10)\n",
        "\n",
        "plt.show()\n"
      ]
    },
    {
      "cell_type": "markdown",
      "metadata": {
        "id": "5bpp7VRS9wLd"
      },
      "source": [
        "Creating a Hospital Location Heatmap Using Folium"
      ]
    },
    {
      "cell_type": "code",
      "execution_count": null,
      "metadata": {
        "colab": {
          "base_uri": "https://localhost:8080/",
          "height": 797
        },
        "id": "4TFY3LSjM11i",
        "outputId": "ef5d60fa-f3be-4a65-dc9d-2850e12e4289"
      },
      "outputs": [],
      "source": [
        "from folium.plugins import HeatMap\n",
        "\n",
        "m = folium.Map(location=[26.9, 75.8], zoom_start=6, tiles=\"CartoDB positron\")\n",
        "\n",
        "heat_data = hospital_coords[[\"latitude\", \"longitude\"]].values.tolist()\n",
        "HeatMap(heat_data, radius=7, blur=4).add_to(m)\n",
        "\n",
        "m.save(\"hospital_heatmap.html\")\n",
        "m\n"
      ]
    },
    {
      "cell_type": "markdown",
      "metadata": {
        "id": "f4d8TLde98zE"
      },
      "source": [
        "Visualizing Hospitals vs Population by District Using Scatter Plot"
      ]
    },
    {
      "cell_type": "code",
      "execution_count": null,
      "metadata": {
        "colab": {
          "base_uri": "https://localhost:8080/",
          "height": 542
        },
        "id": "Bc5M5yMUM7_O",
        "outputId": "cd4f0cc6-d530-43ce-b5ac-0f2fd8c5dcac"
      },
      "outputs": [],
      "source": [
        "fig = px.scatter(pop_ratio,\n",
        "                 x=\"total_population\", y=\"hospital_count\",\n",
        "                 size=\"hospitals_per_lakh\", color=\"district\",\n",
        "                 hover_name=\"district\", title=\"Hospitals vs Population by District\")\n",
        "fig.show()\n"
      ]
    },
    {
      "cell_type": "markdown",
      "metadata": {
        "id": "9xa9wiMH-CGj"
      },
      "source": [
        "Highlighting Bottom 5 Districts by Hospital Count"
      ]
    },
    {
      "cell_type": "code",
      "execution_count": null,
      "metadata": {
        "colab": {
          "base_uri": "https://localhost:8080/",
          "height": 487
        },
        "id": "eOpPblQpNUtm",
        "outputId": "d560be77-fb8e-418f-f7f6-760bd3cb5c2b"
      },
      "outputs": [],
      "source": [
        "plt.figure(figsize=(8,5))\n",
        "bars = plt.bar(bottom5[\"district\"], bottom5[\"hospital_count\"], color=\"skyblue\", edgecolor=\"black\")\n",
        "\n",
        "for bar in bars:\n",
        "    yval = bar.get_height()\n",
        "    plt.text(bar.get_x() + bar.get_width()/2, yval + 1, str(yval),\n",
        "             ha='center', va='bottom', fontsize=10, fontweight='bold')\n",
        "\n",
        "plt.title(\"Bottom 5 Districts by Hospital Count\")\n",
        "plt.xlabel(\"District\")\n",
        "plt.ylabel(\"Number of Hospitals\")\n",
        "plt.show()"
      ]
    },
    {
      "cell_type": "markdown",
      "metadata": {
        "id": "oMxFBywc-KAp"
      },
      "source": [
        "Hospitals per Lakh Population by District"
      ]
    },
    {
      "cell_type": "code",
      "execution_count": null,
      "metadata": {
        "colab": {
          "base_uri": "https://localhost:8080/",
          "height": 807
        },
        "id": "ERxJ_7fMOEft",
        "outputId": "deff5d61-ec33-4551-c2a5-e44790cd9262"
      },
      "outputs": [],
      "source": [
        "df = district_rank_pop.sort_values(\"rank_by_ratio\")\n",
        "\n",
        "plt.figure(figsize=(12,8))\n",
        "sns.barplot(data=district_rank_pop, x=\"hospitals_per_lakh\", y=\"distname\", palette=\"viridis\")\n",
        "\n",
        "for index, value in enumerate(df[\"hospitals_per_lakh\"]):\n",
        "    plt.text(value + 0.1, index, str(value), va=\"center\", fontsize=9)\n",
        "\n",
        "plt.title(\"Hospitals per Lakh Population by District (Rajasthan)\", fontsize=14, weight=\"bold\")\n",
        "plt.xlabel(\"Hospitals per Lakh Population\")\n",
        "plt.ylabel(\"District\")\n",
        "plt.tight_layout()\n",
        "plt.show()"
      ]
    },
    {
      "cell_type": "markdown",
      "metadata": {
        "id": "wDk4G1Fr-PAe"
      },
      "source": [
        "People per Hospital by District"
      ]
    },
    {
      "cell_type": "code",
      "execution_count": null,
      "metadata": {
        "colab": {
          "base_uri": "https://localhost:8080/",
          "height": 666
        },
        "id": "caG-MStuOIJo",
        "outputId": "825a4b12-f9f5-49ad-abfa-1bdd9cd51033"
      },
      "outputs": [],
      "source": [
        "plt.figure(figsize=(12,6))\n",
        "sns.barplot(data=pop_ratio.sort_values(\"people_per_hospital\", ascending=False),\n",
        "            x=\"district\", y=\"people_per_hospital\", palette=\"magma\")\n",
        "plt.xticks(rotation=90)\n",
        "plt.title(\"People per Hospital (Higher = Worse)\")\n",
        "plt.ylabel(\"People per Hospital\")\n",
        "plt.show()\n"
      ]
    },
    {
      "cell_type": "markdown",
      "metadata": {
        "id": "LbA8K9Tq-VsW"
      },
      "source": [
        "District-wise Healthcare Accessibility Levels (Pie Chart)"
      ]
    },
    {
      "cell_type": "code",
      "execution_count": null,
      "metadata": {
        "colab": {
          "base_uri": "https://localhost:8080/",
          "height": 521
        },
        "id": "JrhFfu15XZYU",
        "outputId": "b7c87baf-fd67-4447-bf4f-532d021096ff"
      },
      "outputs": [],
      "source": [
        "plt.figure(figsize=(6,6))\n",
        "hosp_access['access_level'].value_counts().plot.pie(autopct='%1.1f%%', colors=['#e74c3c','#f1c40f','#2ecc71'])\n",
        "plt.title(\"Healthcare Accessibility Levels (District-wise)\")\n",
        "plt.ylabel(\"\")\n",
        "plt.show()"
      ]
    },
    {
      "cell_type": "markdown",
      "metadata": {
        "id": "sLDGx_0k-bOv"
      },
      "source": [
        "Best vs Worst Districts in Healthcare Access"
      ]
    },
    {
      "cell_type": "code",
      "execution_count": null,
      "metadata": {
        "colab": {
          "base_uri": "https://localhost:8080/",
          "height": 607
        },
        "id": "o655xOz4ZkQ3",
        "outputId": "e1216de7-44a8-49bd-e323-237af7177389"
      },
      "outputs": [],
      "source": [
        "top_bottom = pd.concat([\n",
        "    hosp_access.nsmallest(5, \"people_per_hospital\"),\n",
        "    hosp_access.nlargest(5, \"people_per_hospital\")\n",
        "])\n",
        "\n",
        "plt.figure(figsize=(10,6))\n",
        "ax = sns.barplot(\n",
        "    data=top_bottom, x=\"distname\", y=\"people_per_hospital\", hue=\"access_level\",\n",
        "    dodge=False, palette={\"Poor\":\"#e74c3c\",\"Average\":\"#f1c40f\",\"Good\":\"#2ecc71\"}\n",
        ")\n",
        "\n",
        "plt.xticks(rotation=45)\n",
        "plt.title(\"Best vs Worst Districts in Healthcare Access\", fontsize=14)\n",
        "plt.ylabel(\"People per Hospital\")\n",
        "plt.xlabel(\"District\")\n",
        "\n",
        "for p in ax.patches:\n",
        "    ax.text(\n",
        "        p.get_x() + p.get_width()/2,\n",
        "        p.get_height() + 1000,\n",
        "        int(p.get_height()),\n",
        "        ha=\"center\", va=\"bottom\", fontsize=9, color=\"black\"\n",
        "    )\n",
        "\n",
        "plt.tight_layout()\n",
        "plt.show()\n"
      ]
    },
    {
      "cell_type": "markdown",
      "metadata": {
        "id": "yqhl7NTi-fWd"
      },
      "source": [
        "Analysis of Hospitals Near National Highways"
      ]
    },
    {
      "cell_type": "code",
      "execution_count": null,
      "metadata": {
        "colab": {
          "base_uri": "https://localhost:8080/",
          "height": 1000
        },
        "id": "crUyX_6JbWm1",
        "outputId": "17688c2d-4208-4cde-dddf-1971a066c96c"
      },
      "outputs": [],
      "source": [
        "import pandas as pd\n",
        "import plotly.express as px\n",
        "\n",
        "df = pd.read_csv(\"Hospitals within 10 km of National Highways (NH).csv\")\n",
        "\n",
        "district_counts = df['district'].value_counts().reset_index()\n",
        "district_counts.columns = ['District', 'Number of Hospitals']\n",
        "\n",
        "fig1 = px.bar(district_counts, x='District', y='Number of Hospitals',\n",
        "              title='Number of Hospitals per District')\n",
        "fig1.show()\n",
        "\n",
        "fig2 = px.histogram(df, x='distance_meters', nbins=40,\n",
        "                    title='Distribution of Hospital Distances from NH')\n",
        "fig2.show()\n",
        "\n",
        "nh_counts = df['nearest_nh'].value_counts().reset_index()\n",
        "nh_counts.columns = ['Nearest National Highway', 'Number of Hospitals']\n",
        "\n",
        "fig3 = px.bar(nh_counts, x='Nearest National Highway', y='Number of Hospitals',\n",
        "              title='Hospitals per National Highway')\n",
        "fig3.show()\n",
        "\n",
        "fig4 = px.scatter(df, x='distance_meters', y='district',\n",
        "                  title='Hospital Distance vs District', hover_data=['hospital_name'])\n",
        "fig4.show()\n"
      ]
    },
    {
      "cell_type": "markdown",
      "metadata": {
        "id": "hkQ8CXAX-jmy"
      },
      "source": [
        "Analysis of Hospitals Near State Highways"
      ]
    },
    {
      "cell_type": "code",
      "execution_count": null,
      "metadata": {
        "colab": {
          "base_uri": "https://localhost:8080/",
          "height": 1000
        },
        "id": "h_uwGsB0b4mg",
        "outputId": "95e93f59-a99b-431b-f88e-1b834b65a37e"
      },
      "outputs": [],
      "source": [
        "import pandas as pd\n",
        "import plotly.express as px\n",
        "\n",
        "df = pd.read_csv(\"Hospitals within 10 km of State Highways (SH).csv\")\n",
        "\n",
        "top_districts = df['district'].value_counts().nlargest(10)\n",
        "fig1 = px.bar(top_districts, x=top_districts.index, y=top_districts.values, title='Top 10 Districts by Hospitals')\n",
        "fig1.show()\n",
        "\n",
        "fig2 = px.histogram(df, x='distance_meters', nbins=10, title='Hospital Distance Distribution')\n",
        "fig2.show()\n",
        "\n",
        "top_highways = df['nearest_sh'].value_counts().nlargest(10)\n",
        "fig3 = px.bar(top_highways, x=top_highways.index, y=top_highways.values, title='Top 10 Highways by Hospitals')\n",
        "fig3.show()\n"
      ]
    },
    {
      "cell_type": "markdown",
      "metadata": {
        "id": "3NvSVA8N-prN"
      },
      "source": [
        "Distance Analysis to Nearest Hospital by District"
      ]
    },
    {
      "cell_type": "code",
      "execution_count": null,
      "metadata": {
        "colab": {
          "base_uri": "https://localhost:8080/",
          "height": 607
        },
        "id": "zFkeKWYzcm-b",
        "outputId": "ac55c5f7-4652-4d7d-86a5-550839181c35"
      },
      "outputs": [],
      "source": [
        "df = pd.read_csv(\"Nearest hospital to each district centroid.csv\")\n",
        "df = df.dropna(subset=[\"nearest_hospital\"])\n",
        "mean_distance = df[\"distance_km\"].mean()\n",
        "median_distance = df[\"distance_km\"].median()\n",
        "plt.figure(figsize=(10,6))\n",
        "sns.histplot(df[\"distance_km\"], bins=10, kde=True, color=\"#3498db\", edgecolor=\"black\")\n",
        "plt.axvline(mean_distance, color='red', linestyle='--', linewidth=2, label=f\"Mean = {mean_distance:.2f} km\")\n",
        "plt.axvline(median_distance, color='green', linestyle='--', linewidth=2, label=f\"Median = {median_distance:.2f} km\")\n",
        "\n",
        "plt.title(\"Distribution of Distances to Nearest Hospital by District (Rajasthan)\", fontsize=14, weight=\"bold\")\n",
        "plt.xlabel(\"Distance to Nearest Hospital (km)\", fontsize=12)\n",
        "plt.ylabel(\"Number of Districts\", fontsize=12)\n",
        "plt.legend()\n",
        "plt.grid(axis='y', linestyle='--', alpha=0.7)\n",
        "plt.tight_layout()\n",
        "plt.show()\n"
      ]
    },
    {
      "cell_type": "markdown",
      "metadata": {
        "id": "MUIxhJ6C-xz9"
      },
      "source": [
        "Top 10 Districts by Hospital Density"
      ]
    },
    {
      "cell_type": "code",
      "execution_count": null,
      "metadata": {
        "colab": {
          "base_uri": "https://localhost:8080/",
          "height": 607
        },
        "id": "nfgXFKerdQqq",
        "outputId": "36bea0a0-532a-497a-b63e-dd5d7c683b5c"
      },
      "outputs": [],
      "source": [
        "hosp_density[\"hospitals_per_sqkm\"] = hosp_density[\"hospital_count\"] / hosp_density[\"district_area_sqkm\"]\n",
        "\n",
        "df_sorted = hosp_density.sort_values(\"hospitals_per_sqkm\", ascending=False).head(10)\n",
        "\n",
        "plt.figure(figsize=(10,6))\n",
        "sns.barplot(data=df_sorted, x=\"district\", y=\"hospitals_per_sqkm\", palette=\"viridis\")\n",
        "\n",
        "for i, v in enumerate(df_sorted[\"hospitals_per_sqkm\"]):\n",
        "    plt.text(i, v + 0.001, f\"{v:.3f}\", ha=\"center\", va=\"bottom\", fontsize=9)\n",
        "\n",
        "plt.title(\"Top 10 Districts by Hospital Density (Hospitals per Sq.Km)\", fontsize=14, weight=\"bold\")\n",
        "plt.xlabel(\"District\")\n",
        "plt.ylabel(\"Hospitals per Sq.Km\")\n",
        "plt.xticks(rotation=45)\n",
        "plt.tight_layout()\n",
        "plt.show()"
      ]
    },
    {
      "cell_type": "markdown",
      "metadata": {
        "id": "zeoL43tL-zi3"
      },
      "source": [
        "Top Districts by Percentage of Emergency Healthcare Facilities"
      ]
    },
    {
      "cell_type": "code",
      "execution_count": null,
      "metadata": {
        "colab": {
          "base_uri": "https://localhost:8080/",
          "height": 564
        },
        "id": "e8Tu1al0eNf4",
        "outputId": "575c5273-3f5c-47c4-ea7f-29792719ed08"
      },
      "outputs": [],
      "source": [
        "top_emergency = emg_fac[emg_fac['emergency_facilities'] > 0].sort_values(\"percent_emergency\", ascending=False).head(10)\n",
        "\n",
        "plt.figure(figsize=(10,6))\n",
        "plt.barh(top_emergency[\"addr:district\"], top_emergency[\"percent_emergency\"], color=\"tomato\")\n",
        "plt.xlabel(\"Emergency Facilities (%)\")\n",
        "plt.ylabel(\"District\")\n",
        "plt.title(\"Top Districts by % of Emergency Healthcare Faciliteis\")\n",
        "plt.gca().invert_yaxis()\n",
        "plt.show()\n"
      ]
    },
    {
      "cell_type": "markdown",
      "metadata": {
        "id": "6QIsHNSY-3yH"
      },
      "source": [
        "Share of Emergency vs Non-Emergency Healthcare Facilities"
      ]
    },
    {
      "cell_type": "code",
      "execution_count": null,
      "metadata": {
        "colab": {
          "base_uri": "https://localhost:8080/",
          "height": 521
        },
        "id": "uTc8yOErfKyW",
        "outputId": "91ab98d8-b727-49e3-e793-a779f9aa3a47"
      },
      "outputs": [],
      "source": [
        "total_emergency = emg_fac[\"emergency_facilities\"].sum()\n",
        "total_all = emg_fac[\"total_facilities\"].sum()\n",
        "\n",
        "plt.figure(figsize=(6,6))\n",
        "plt.pie([total_emergency, total_all-total_emergency], labels=[\"Emergency\", \"Non-Emergency\"],\n",
        "        autopct=\"%.2f%%\", colors=[\"red\",\"lightgrey\"], startangle=90)\n",
        "plt.title(\"Share of Emergency vs Non-Emergency Facilities in Rajasthan\")\n",
        "plt.show()"
      ]
    },
    {
      "cell_type": "markdown",
      "metadata": {
        "id": "VIlh6xgX-_1c"
      },
      "source": [
        "District-wise Distribution of Healthcare Facility Types"
      ]
    },
    {
      "cell_type": "code",
      "execution_count": null,
      "metadata": {
        "colab": {
          "base_uri": "https://localhost:8080/",
          "height": 662
        },
        "id": "NuHI3WUrfsGI",
        "outputId": "a275d370-7c60-41ca-e0ad-faa0e3d635a2"
      },
      "outputs": [],
      "source": [
        "df =pd.read_csv(\"Facility type breakdown per district.csv\")\n",
        "\n",
        "pivot_df = df.pivot_table(index=\"addr:district\",\n",
        "                          columns=\"amenity\",\n",
        "                          values=\"facility_count\",\n",
        "                          aggfunc=\"sum\",\n",
        "                          fill_value=0)\n",
        "\n",
        "pivot_df[\"Total\"] = pivot_df.sum(axis=1)\n",
        "pivot_df = pivot_df.sort_values(\"Total\", ascending=False)\n",
        "\n",
        "pivot_df[[\"hospital\",\"clinic\",\"doctors\"]].plot(\n",
        "    kind=\"bar\", stacked=True, figsize=(14,7),\n",
        "    color=[\"#3498db\",\"#f1c40f\",\"#2ecc71\"]\n",
        ")\n",
        "\n",
        "plt.title(\"Healthcare Facilities Distribution by District\", fontsize=16)\n",
        "plt.ylabel(\"Number of Facilities\")\n",
        "plt.xlabel(\"District\")\n",
        "plt.xticks(rotation=45, ha=\"right\")\n",
        "plt.legend(title=\"Facility Type\")\n",
        "plt.tight_layout()\n",
        "plt.show()\n"
      ]
    }
  ],
  "metadata": {
    "colab": {
      "provenance": []
    },
    "kernelspec": {
      "display_name": "Python 3",
      "name": "python3"
    },
    "language_info": {
      "name": "python",
      "version": "3.12.4"
    }
  },
  "nbformat": 4,
  "nbformat_minor": 0
}
